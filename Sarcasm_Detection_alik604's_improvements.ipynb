{
  "nbformat": 4,
  "nbformat_minor": 0,
  "metadata": {
    "colab": {
      "name": "Sarcasm Detection - alik604's improvements.ipynb",
      "provenance": [],
      "collapsed_sections": [],
      "include_colab_link": true
    },
    "kernelspec": {
      "name": "python3",
      "display_name": "Python 3"
    },
    "accelerator": "GPU"
  },
  "cells": [
    {
      "cell_type": "markdown",
      "metadata": {
        "id": "view-in-github",
        "colab_type": "text"
      },
      "source": [
        "<a href=\"https://colab.research.google.com/github/alik604/Sarcasm-Detection/blob/master/Sarcasm_Detection_alik604's_improvements.ipynb\" target=\"_parent\"><img src=\"https://colab.research.google.com/assets/colab-badge.svg\" alt=\"Open In Colab\"/></a>"
      ]
    },
    {
      "cell_type": "markdown",
      "metadata": {
        "id": "uOwZ0Y9zLVdA",
        "colab_type": "text"
      },
      "source": [
        "# Scarcasm Detection \n",
        "- By [manashpratim](https://github.com/manashpratim/Sarcasm-Detection)\n",
        "-- Improved by [alik604](https://github.com/alik604/ReadMe)\n",
        "\n",
        "> Can sarcastic sentences be identified?\n",
        "\n"
      ]
    },
    {
      "cell_type": "code",
      "metadata": {
        "id": "vfPsP_sSqH2o",
        "colab_type": "code",
        "outputId": "6bd67dea-be63-47ea-f022-07a306eaceeb",
        "colab": {
          "base_uri": "https://localhost:8080/",
          "height": 173
        }
      },
      "source": [
        "#Downloading the dataset\n",
        "\n",
        "# import os\n",
        "\n",
        "# os.environ['KAGGLE_USERNAME'] = \"alik604\" # username from the json file os.environ['KAGGLEKEY'] = \"xxxxxxxxxxxxxxxxxxxxxxxxxxxx\" # key from the json file\n",
        "# os.environ['KAGGLE_KEY'] = \"\"\n",
        "\n",
        "!mkdir /root/.kaggle\n",
        "!echo '{\"username\":\"alik604\",\"key\":\"\"}' > /root/.kaggle/kaggle.json\n",
        "\n",
        "!kaggle datasets download -d rmisra/news-headlines-dataset-for-sarcasm-detection\n",
        "\n",
        "!ls"
      ],
      "execution_count": 11,
      "outputs": [
        {
          "output_type": "stream",
          "text": [
            "Warning: Your Kaggle API key is readable by other users on this system! To fix this, you can run 'chmod 600 /root/.kaggle/kaggle.json'\n",
            "Downloading news-headlines-dataset-for-sarcasm-detection.zip to /content\n",
            "\r  0% 0.00/3.30M [00:00<?, ?B/s]\n",
            "\r100% 3.30M/3.30M [00:00<00:00, 108MB/s]\n",
            "'archive.zip?GoogleAccessId=web-data@kaggle-161607.iam.gserviceaccount.com&Expires=1577991782&Signature=QpmYla4bKFA22+WS70VxDUMRgklHzf9pflHYagQua5DhjiFOypzq%2FAPQGp5Lmp%2FVjSBvhku8M2ejtHLGqfIhxEAMMCfOdkqK6lyFcawyiXPi1YV2pDJjqAlOBy4TQSMOo'\n",
            " download\n",
            " news-headlines-dataset-for-sarcasm-detection.zip\n",
            " sample_data\n"
          ],
          "name": "stdout"
        }
      ]
    },
    {
      "cell_type": "code",
      "metadata": {
        "id": "W9f-SRr2q0dt",
        "colab_type": "code",
        "colab": {
          "base_uri": "https://localhost:8080/",
          "height": 105
        },
        "outputId": "a7c1e5af-d3c9-4809-b79c-cb8675e8b5d8"
      },
      "source": [
        "# Unzipping the downloaded dataset\n",
        "import os\n",
        "import zipfile\n",
        "\n",
        "local_zip='news-headlines-dataset-for-sarcasm-detection.zip'\n",
        "zip_ref=zipfile.ZipFile(local_zip,'r')\n",
        "zip_ref.extractall('/tmp/sarcasm')\n",
        "zip_ref.close()\n",
        "\n",
        "!ls"
      ],
      "execution_count": 14,
      "outputs": [
        {
          "output_type": "stream",
          "text": [
            "'archive.zip?GoogleAccessId=web-data@kaggle-161607.iam.gserviceaccount.com&Expires=1577991782&Signature=QpmYla4bKFA22+WS70VxDUMRgklHzf9pflHYagQua5DhjiFOypzq%2FAPQGp5Lmp%2FVjSBvhku8M2ejtHLGqfIhxEAMMCfOdkqK6lyFcawyiXPi1YV2pDJjqAlOBy4TQSMOo'\n",
            " download\n",
            " news-headlines-dataset-for-sarcasm-detection.zip\n",
            " sample_data\n"
          ],
          "name": "stdout"
        }
      ]
    },
    {
      "cell_type": "code",
      "metadata": {
        "id": "vx_UPmFCtTC7",
        "colab_type": "code",
        "colab": {}
      },
      "source": [
        "#Opening the json file\n",
        "import json\n",
        "rows = []\n",
        "for line in open('/tmp/sarcasm/Sarcasm_Headlines_Dataset.json', 'r'):\n",
        "    rows.append(json.loads(line))"
      ],
      "execution_count": 0,
      "outputs": []
    },
    {
      "cell_type": "code",
      "metadata": {
        "id": "gYrGxoolq8aZ",
        "colab_type": "code",
        "colab": {}
      },
      "source": [
        "#Suffling the data and splitting the data into training and test sets \n",
        "import random\n",
        "SPLIT_SIZE=0.9\n",
        "suffled_set=random.sample(rows,len(rows))\n",
        "train_length=int(len(suffled_set)*SPLIT_SIZE)\n",
        "train_set=suffled_set[:train_length]\n",
        "test_set=suffled_set[train_length:]"
      ],
      "execution_count": 0,
      "outputs": []
    },
    {
      "cell_type": "code",
      "metadata": {
        "id": "4PaUlhjcvcgs",
        "colab_type": "code",
        "outputId": "b3e1edd3-c806-4736-e023-ceb2110e065c",
        "colab": {
          "base_uri": "https://localhost:8080/",
          "height": 68
        }
      },
      "source": [
        "#Data Summary\n",
        "print('Total length of the dataset: ',len(suffled_set))\n",
        "print('Length of the Training dataset: ',len(train_set))\n",
        "print('Length of the Test dataset: ',len(test_set))"
      ],
      "execution_count": 17,
      "outputs": [
        {
          "output_type": "stream",
          "text": [
            "Total length of the dataset:  26709\n",
            "Length of the Training dataset:  24038\n",
            "Length of the Test dataset:  2671\n"
          ],
          "name": "stdout"
        }
      ]
    },
    {
      "cell_type": "code",
      "metadata": {
        "id": "SvTrRK_DtZ45",
        "colab_type": "code",
        "outputId": "cc15fb14-0714-4bd3-c300-722d30ce5a22",
        "colab": {
          "base_uri": "https://localhost:8080/",
          "height": 68
        }
      },
      "source": [
        "#Data Format\n",
        "train_set[1000]"
      ],
      "execution_count": 18,
      "outputs": [
        {
          "output_type": "execute_result",
          "data": {
            "text/plain": [
              "{'article_link': 'https://www.huffingtonpost.com/entry/three-jews-visit-scandinavia_b_5643357.html',\n",
              " 'headline': 'three jews visit scandinavia',\n",
              " 'is_sarcastic': 0}"
            ]
          },
          "metadata": {
            "tags": []
          },
          "execution_count": 18
        }
      ]
    },
    {
      "cell_type": "code",
      "metadata": {
        "id": "1cV42oc53B3z",
        "colab_type": "code",
        "colab": {}
      },
      "source": [
        "#This list is available at https://github.com/Yoast/YoastSEO.js/blob/develop/src/config/stopwords.js\n",
        "stopwords=[ \"a\", \"about\", \"above\", \"after\", \"again\", \"against\", \"all\", \"am\", \"an\", \"and\", \"any\", \"are\", \"as\", \"at\", \"be\", \"because\", \"been\", \"before\", \"being\", \"below\", \"between\", \"both\", \"but\", \"by\", \"could\", \"did\", \"do\", \"does\", \"doing\", \"down\", \"during\", \"each\", \"few\", \"for\", \"from\", \"further\", \"had\", \"has\", \"have\", \"having\", \"he\", \"he'd\", \"he'll\", \"he's\", \"her\", \"here\", \"here's\", \"hers\", \"herself\", \"him\", \"himself\", \"his\", \"how\", \"how's\", \"i\", \"i'd\", \"i'll\", \"i'm\", \"i've\", \"if\", \"in\", \"into\", \"is\", \"it\", \"it's\", \"its\", \"itself\", \"let's\", \"me\", \"more\", \"most\", \"my\", \"myself\", \"nor\", \"of\", \"on\", \"once\", \"only\", \"or\", \"other\", \"ought\", \"our\", \"ours\", \"ourselves\", \"out\", \"over\", \"own\", \"same\", \"she\", \"she'd\", \"she'll\", \"she's\", \"should\", \"so\", \"some\", \"such\", \"than\", \"that\", \"that's\", \"the\", \"their\", \"theirs\", \"them\", \"themselves\", \"then\", \"there\", \"there's\", \"these\", \"they\", \"they'd\", \"they'll\", \"they're\", \"they've\", \"this\", \"those\", \"through\", \"to\", \"too\", \"under\", \"until\", \"up\", \"very\", \"was\", \"we\", \"we'd\", \"we'll\", \"we're\", \"we've\", \"were\", \"what\", \"what's\", \"when\", \"when's\", \"where\", \"where's\", \"which\", \"while\", \"who\", \"who's\", \"whom\", \"why\", \"why's\", \"with\", \"would\", \"you\", \"you'd\", \"you'll\", \"you're\", \"you've\", \"your\", \"yours\", \"yourself\", \"yourselves\" ]"
      ],
      "execution_count": 0,
      "outputs": []
    },
    {
      "cell_type": "code",
      "metadata": {
        "id": "RtHAQW6G3VTv",
        "colab_type": "code",
        "colab": {}
      },
      "source": [
        "#Function to remove stopwords\n",
        "def remove_stopwords(sentence):\n",
        "  for word in stopwords:\n",
        "    token=' '+word+' '\n",
        "    sentence=sentence.replace(token,' ')\n",
        "    sentence=sentence.replace('  ',' ')\n",
        "  return sentence"
      ],
      "execution_count": 0,
      "outputs": []
    },
    {
      "cell_type": "code",
      "metadata": {
        "id": "pv4FShuLwQwm",
        "colab_type": "code",
        "colab": {}
      },
      "source": [
        "#Function to get the plain text from the link of an article\n",
        "def get_article(link):\n",
        "  try:\n",
        "    from bs4 import BeautifulSoup\n",
        "    import urllib.request\n",
        "\n",
        "    user_agent = 'Mozilla/5.0 (Windows; U; Windows NT 5.1; en-US; rv:1.9.0.7) Gecko/2009021910 Firefox/3.0.7'\n",
        "\n",
        "    url = link\n",
        "\n",
        "    headers={'User-Agent':user_agent,} \n",
        "\n",
        "    request=urllib.request.Request(url,None,headers) #The assembled request\n",
        "    response = urllib.request.urlopen(request)\n",
        "    html= response.read()\n",
        "    soup = BeautifulSoup(html)\n",
        "\n",
        "    # kill all script and style elements\n",
        "    for script in soup([\"script\", \"style\"]):\n",
        "        script.extract()    # rip it out\n",
        "\n",
        "    # get text\n",
        "    text = soup.get_text()\n",
        "\n",
        "    # break into lines and remove leading and trailing space on each\n",
        "    lines = (line.strip() for line in text.splitlines())\n",
        "    # break multi-headlines into a line each\n",
        "    chunks = (phrase.strip() for line in lines for phrase in line.split(\"  \"))\n",
        "    # drop blank lines\n",
        "    text = '\\n'.join(chunk for chunk in chunks if chunk)\n",
        "    return ' '.join(text.split())\n",
        "  except:\n",
        "    return 'article not available'\n",
        "    pass\n",
        "  \n",
        " "
      ],
      "execution_count": 0,
      "outputs": []
    },
    {
      "cell_type": "code",
      "metadata": {
        "id": "avDhe2Hs0lrL",
        "colab_type": "code",
        "colab": {}
      },
      "source": [
        "#Function to separate the articles, headlines and labels from the data\n",
        "def extract(array):\n",
        "  \n",
        "  #articles=[]\n",
        "  headlines=[]\n",
        "  labels=[]\n",
        "  for i in range(len(array)):\n",
        "    labels.append(array[i]['is_sarcastic'])\n",
        "    headlines.append(remove_stopwords(array[i]['headline']))\n",
        "    #articles.append(get_article(array[i]['article_link']))\n",
        "  #return articles,headlines,labels\n",
        "  return headlines,labels"
      ],
      "execution_count": 0,
      "outputs": []
    },
    {
      "cell_type": "code",
      "metadata": {
        "id": "AFpG2G0W8kq7",
        "colab_type": "code",
        "colab": {}
      },
      "source": [
        "#Extracting articles, headlines and labels from the data\n",
        "#train_articles,train_headlines,train_labels=extract(train_set)\n",
        "train_headlines,train_labels=extract(train_set)\n",
        "#test_articles,test_headlines,test_labels=extract(test_set)\n",
        "test_headlines,test_labels=extract(test_set)"
      ],
      "execution_count": 0,
      "outputs": []
    },
    {
      "cell_type": "code",
      "metadata": {
        "id": "OMfJ4sL41MnL",
        "colab_type": "code",
        "colab": {}
      },
      "source": [
        "#Preprocessing the training and test headlines for the word embedding\n",
        "vocab_size = 10000\n",
        "embedding_dim = 27 # 15\n",
        "max_length = 120\n",
        "trunc_type='post'\n",
        "oov_tok = \"<OOV>\"\n",
        "\n",
        "import tensorflow as tf\n",
        "from tensorflow import keras\n",
        "from tensorflow.keras.preprocessing.text import Tokenizer\n",
        "from tensorflow.keras.preprocessing.sequence import pad_sequences\n",
        "from tensorflow.keras.layers import * \n",
        "tokenizer = Tokenizer(num_words = vocab_size, oov_token=oov_tok)\n",
        "tokenizer.fit_on_texts(train_headlines)\n",
        "word_index = tokenizer.word_index\n",
        "sequences = tokenizer.texts_to_sequences(train_headlines)\n",
        "padded = pad_sequences(sequences,maxlen=max_length, truncating=trunc_type)\n",
        "\n",
        "test_sequences = tokenizer.texts_to_sequences(test_headlines)\n",
        "test_padded = pad_sequences(test_sequences,maxlen=max_length)"
      ],
      "execution_count": 0,
      "outputs": []
    },
    {
      "cell_type": "markdown",
      "metadata": {
        "id": "dkN5qu_LzkQb",
        "colab_type": "text"
      },
      "source": [
        "# **CONVOLUTIONAL NEURAL NETWORK (CNN)**"
      ]
    },
    {
      "cell_type": "code",
      "metadata": {
        "id": "8Z4t8mvm34Sl",
        "colab_type": "code",
        "colab": {}
      },
      "source": [
        "#Building the CNN Model\n",
        "model_conv = keras.Sequential([\n",
        "    Embedding(vocab_size, embedding_dim, input_length=max_length),\n",
        "    Conv1D(28,4,activation='relu'), # 24 is better \n",
        "    MaxPooling1D(2),\n",
        "    Dropout(0.2),  \n",
        "   \n",
        "    Flatten(),\n",
        "    Dense(8, activation='relu'),\n",
        "    Dense(1, activation='sigmoid')\n",
        "])\n"
      ],
      "execution_count": 0,
      "outputs": []
    },
    {
      "cell_type": "code",
      "metadata": {
        "id": "_1RldOimvU_E",
        "colab_type": "code",
        "outputId": "3509b1a6-730a-45c9-d746-80203b477a0f",
        "colab": {
          "base_uri": "https://localhost:8080/",
          "height": 391
        }
      },
      "source": [
        "model_conv.summary()"
      ],
      "execution_count": 133,
      "outputs": [
        {
          "output_type": "stream",
          "text": [
            "Model: \"sequential_30\"\n",
            "_________________________________________________________________\n",
            "Layer (type)                 Output Shape              Param #   \n",
            "=================================================================\n",
            "embedding_30 (Embedding)     (None, 120, 28)           280000    \n",
            "_________________________________________________________________\n",
            "conv1d_16 (Conv1D)           (None, 117, 28)           3164      \n",
            "_________________________________________________________________\n",
            "max_pooling1d_15 (MaxPooling (None, 58, 28)            0         \n",
            "_________________________________________________________________\n",
            "dropout_27 (Dropout)         (None, 58, 28)            0         \n",
            "_________________________________________________________________\n",
            "flatten_11 (Flatten)         (None, 1624)              0         \n",
            "_________________________________________________________________\n",
            "dense_74 (Dense)             (None, 8)                 13000     \n",
            "_________________________________________________________________\n",
            "dense_75 (Dense)             (None, 1)                 9         \n",
            "=================================================================\n",
            "Total params: 296,173\n",
            "Trainable params: 296,173\n",
            "Non-trainable params: 0\n",
            "_________________________________________________________________\n"
          ],
          "name": "stdout"
        }
      ]
    },
    {
      "cell_type": "code",
      "metadata": {
        "id": "8fbYwVW8rUWN",
        "colab_type": "code",
        "outputId": "623c018e-55a9-4a13-a309-c9752ab5601b",
        "colab": {
          "base_uri": "https://localhost:8080/",
          "height": 204
        }
      },
      "source": [
        "model_conv.compile(loss='binary_crossentropy',optimizer='adam',metrics=['accuracy'])\n",
        "num_epochs = 5 # 20 \n",
        "history=model_conv.fit(padded, train_labels, epochs=num_epochs, validation_data=(test_padded, test_labels))\n",
        "\n",
        "## Original \n",
        "# .99x | .8304 [val acc]       # Orginal \n",
        "\n",
        "## Mine \n",
        "# # 0.947 | 0.8334 [val acc]       # mark I \n",
        "# # 0.920 | 0.8379 [val acc]       # mark II "
      ],
      "execution_count": 134,
      "outputs": [
        {
          "output_type": "stream",
          "text": [
            "Train on 24038 samples, validate on 2671 samples\n",
            "Epoch 1/5\n",
            "24038/24038 [==============================] - 8s 332us/sample - loss: 0.5362 - acc: 0.7271 - val_loss: 0.4015 - val_acc: 0.8106\n",
            "Epoch 2/5\n",
            "24038/24038 [==============================] - 5s 194us/sample - loss: 0.2963 - acc: 0.8742 - val_loss: 0.3572 - val_acc: 0.8379\n",
            "Epoch 3/5\n",
            "24038/24038 [==============================] - 5s 195us/sample - loss: 0.1834 - acc: 0.9286 - val_loss: 0.4053 - val_acc: 0.8315\n",
            "Epoch 4/5\n",
            "24038/24038 [==============================] - 5s 195us/sample - loss: 0.1075 - acc: 0.9622 - val_loss: 0.5632 - val_acc: 0.8188\n",
            "Epoch 5/5\n",
            "24038/24038 [==============================] - 5s 194us/sample - loss: 0.0617 - acc: 0.9793 - val_loss: 0.6237 - val_acc: 0.8248\n"
          ],
          "name": "stdout"
        }
      ]
    },
    {
      "cell_type": "code",
      "metadata": {
        "id": "jkAx_IzhsQKt",
        "colab_type": "code",
        "outputId": "d01fe6c7-f045-4617-f6f2-9a6a5510e464",
        "colab": {
          "base_uri": "https://localhost:8080/",
          "height": 513
        }
      },
      "source": [
        "#Evaluating Accuracy and Loss of the model\n",
        "%matplotlib inline\n",
        "acc=history.history['acc']\n",
        "val_acc=history.history['val_acc']\n",
        "loss=history.history['loss']\n",
        "val_loss=history.history['val_loss']\n",
        "\n",
        "epochs=range(len(acc)) #No. of epochs\n",
        "\n",
        "#Plot training and validation accuracy per epoch\n",
        "import matplotlib.pyplot as plt\n",
        "plt.plot(epochs,acc,'r',label='Training Accuracy')\n",
        "plt.plot(epochs,val_acc,'g',label='Testing Accuracy')\n",
        "plt.legend()\n",
        "plt.figure()\n",
        "\n",
        "#Plot training and validation loss per epoch\n",
        "plt.plot(epochs,loss,'r',label='Training Loss')\n",
        "plt.plot(epochs,val_loss,'g',label='Testing Loss')\n",
        "plt.legend()\n",
        "plt.show()"
      ],
      "execution_count": 144,
      "outputs": [
        {
          "output_type": "display_data",
          "data": {
            "image/png": "[encoded data removed]",
            "text/plain": [
              "<Figure size 432x288 with 1 Axes>"
            ]
          },
          "metadata": {
            "tags": []
          }
        },
        {
          "output_type": "display_data",
          "data": {
            "image/png": "[encoded data removed]",
            "text/plain": [
              "<Figure size 432x288 with 1 Axes>"
            ]
          },
          "metadata": {
            "tags": []
          }
        }
      ]
    },
    {
      "cell_type": "markdown",
      "metadata": {
        "id": "Z8RByV7mzPih",
        "colab_type": "text"
      },
      "source": [
        "# ** Stacked Bidirectional ~GRU~ LSTM **"
      ]
    },
    {
      "cell_type": "code",
      "metadata": {
        "id": "mTx2htPXyICQ",
        "colab_type": "code",
        "colab": {}
      },
      "source": [
        "#Building the GRU Model\n",
        "model_gru = keras.Sequential([\n",
        "    Embedding(vocab_size, embedding_dim, input_length=max_length),\n",
        "    Bidirectional(CuDNNLSTM(28, return_sequences=True)),\n",
        "    # Dense(28, activation='relu'), # work well, ive never read about this... \n",
        "    # Dropout(.3),\n",
        "    Bidirectional(CuDNNLSTM(20)),\n",
        "\n",
        "    Dense(10, activation='relu'),\n",
        "    Dense(1, activation='sigmoid')\n",
        "])"
      ],
      "execution_count": 0,
      "outputs": []
    },
    {
      "cell_type": "code",
      "metadata": {
        "id": "WU2_ttenynGy",
        "colab_type": "code",
        "outputId": "26ce82dd-cd76-4d25-fff5-a9abf1b40022",
        "colab": {
          "base_uri": "https://localhost:8080/",
          "height": 323
        }
      },
      "source": [
        "model_gru.summary() "
      ],
      "execution_count": 146,
      "outputs": [
        {
          "output_type": "stream",
          "text": [
            "Model: \"sequential_33\"\n",
            "_________________________________________________________________\n",
            "Layer (type)                 Output Shape              Param #   \n",
            "=================================================================\n",
            "embedding_33 (Embedding)     (None, 120, 28)           280000    \n",
            "_________________________________________________________________\n",
            "bidirectional_38 (Bidirectio (None, 120, 56)           12992     \n",
            "_________________________________________________________________\n",
            "bidirectional_39 (Bidirectio (None, 40)                12480     \n",
            "_________________________________________________________________\n",
            "dense_81 (Dense)             (None, 10)                410       \n",
            "_________________________________________________________________\n",
            "dense_82 (Dense)             (None, 1)                 11        \n",
            "=================================================================\n",
            "Total params: 305,893\n",
            "Trainable params: 305,893\n",
            "Non-trainable params: 0\n",
            "_________________________________________________________________\n"
          ],
          "name": "stdout"
        }
      ]
    },
    {
      "cell_type": "code",
      "metadata": {
        "id": "LACeEHlTy3_z",
        "colab_type": "code",
        "outputId": "c2f67b16-9d3d-42de-d1d6-402a3a5522ec",
        "colab": {
          "base_uri": "https://localhost:8080/",
          "height": 374
        }
      },
      "source": [
        "model_gru.compile(loss='binary_crossentropy',optimizer='adam',metrics=['accuracy'])\n",
        "num_epochs = 10\n",
        "history1=model_gru.fit(padded, train_labels, batch_size=500,epochs=num_epochs, validation_data=(test_padded, test_labels))\n",
        "\n",
        "## Original \n",
        "# acc: 0.9101 | val_acc: 0.8315\n",
        "\n",
        "## Alik604's \n",
        "# acc: 0.8870 | val_acc: 0.83 # CuDNNGRU; speed improvement\n",
        "# acc: 0.9773 | val_acc: 0.8233 # stacked CuDNNLSTM with dropout\n",
        "# acc: 0.9267 | val_acc: 0.8311 # stacked CuDNNLSTM with dropout # 5th epoch, batch_size=500, val_loss: 0.4435\n",
        "# acc: 0.9424 | val_acc: 0.8416 # stacked CuDNNLSTM with dropout # 5th epoch, batch_size=250, val_loss: 0.4340\n",
        "\n"
      ],
      "execution_count": 147,
      "outputs": [
        {
          "output_type": "stream",
          "text": [
            "Train on 24038 samples, validate on 2671 samples\n",
            "Epoch 1/10\n",
            "24038/24038 [==============================] - 6s 263us/sample - loss: 0.6744 - acc: 0.5729 - val_loss: 0.6031 - val_acc: 0.7559\n",
            "Epoch 2/10\n",
            "24038/24038 [==============================] - 2s 87us/sample - loss: 0.4099 - acc: 0.8282 - val_loss: 0.3902 - val_acc: 0.8326\n",
            "Epoch 3/10\n",
            "24038/24038 [==============================] - 2s 87us/sample - loss: 0.2638 - acc: 0.8995 - val_loss: 0.3893 - val_acc: 0.8259\n",
            "Epoch 4/10\n",
            "24038/24038 [==============================] - 2s 87us/sample - loss: 0.2031 - acc: 0.9289 - val_loss: 0.4362 - val_acc: 0.8214\n",
            "Epoch 5/10\n",
            "24038/24038 [==============================] - 2s 87us/sample - loss: 0.1684 - acc: 0.9439 - val_loss: 0.4556 - val_acc: 0.8293\n",
            "Epoch 6/10\n",
            "24038/24038 [==============================] - 2s 87us/sample - loss: 0.1336 - acc: 0.9588 - val_loss: 0.4831 - val_acc: 0.8289\n",
            "Epoch 7/10\n",
            "24038/24038 [==============================] - 2s 87us/sample - loss: 0.1088 - acc: 0.9676 - val_loss: 0.5408 - val_acc: 0.8233\n",
            "Epoch 8/10\n",
            "24038/24038 [==============================] - 2s 86us/sample - loss: 0.0879 - acc: 0.9755 - val_loss: 0.5708 - val_acc: 0.8282\n",
            "Epoch 9/10\n",
            "24038/24038 [==============================] - 2s 86us/sample - loss: 0.0717 - acc: 0.9807 - val_loss: 0.6211 - val_acc: 0.8248\n",
            "Epoch 10/10\n",
            "24038/24038 [==============================] - 2s 87us/sample - loss: 0.0613 - acc: 0.9837 - val_loss: 0.6465 - val_acc: 0.8274\n"
          ],
          "name": "stdout"
        }
      ]
    },
    {
      "cell_type": "code",
      "metadata": {
        "id": "6uxUmW7Xy9sy",
        "colab_type": "code",
        "outputId": "378b4500-1e01-4ac5-99c0-4eff295c28dc",
        "colab": {
          "base_uri": "https://localhost:8080/",
          "height": 518
        }
      },
      "source": [
        "#Evaluating Accuracy and Loss of the model\n",
        "%matplotlib inline\n",
        "acc=history1.history['acc']\n",
        "val_acc=history1.history['val_acc']\n",
        "loss=history1.history['loss']\n",
        "val_loss=history1.history['val_loss']\n",
        "\n",
        "epochs=range(len(acc)) #No. of epochs\n",
        "\n",
        "#Plot training and validation accuracy per epoch\n",
        "import matplotlib.pyplot as plt\n",
        "plt.plot(epochs,acc,'r',label='Training Accuracy')\n",
        "plt.plot(epochs,val_acc,'g',label='Testing Accuracy')\n",
        "plt.legend()\n",
        "plt.figure()\n",
        "\n",
        "#Plot training and validation loss per epoch\n",
        "plt.plot(epochs,loss,'r',label='Training Loss')\n",
        "plt.plot(epochs,val_loss,'g',label='Testing Loss')\n",
        "plt.legend()\n",
        "plt.show()"
      ],
      "execution_count": 149,
      "outputs": [
        {
          "output_type": "display_data",
          "data": {
            "image/png": "[encoded data removed]",
            "text/plain": [
              "<Figure size 432x288 with 1 Axes>"
            ]
          },
          "metadata": {
            "tags": []
          }
        },
        {
          "output_type": "display_data",
          "data": {
            "image/png": "[encoded data removed]",
            "text/plain": [
              "<Figure size 432x288 with 1 Axes>"
            ]
          },
          "metadata": {
            "tags": []
          }
        }
      ]
    },
    {
      "cell_type": "markdown",
      "metadata": {
        "id": "t7DIrf0Az8cu",
        "colab_type": "text"
      },
      "source": [
        "# **Bidirectional ~LSTM~ ConvLSTM2D (experiment) **"
      ]
    },
    {
      "cell_type": "code",
      "metadata": {
        "id": "KsIDuneX0fVF",
        "colab_type": "code",
        "colab": {}
      },
      "source": [
        "#Building the LSTM Model\n",
        "model_lstm = keras.Sequential([\n",
        "    # Embedding(vocab_size, embedding_dim, input_length=max_length),\n",
        "    Bidirectional(ConvLSTM2D(28,(1,1))),\n",
        "    Dense(6, activation='relu'),\n",
        "    Dense(1, activation='sigmoid')\n",
        "])\n"
      ],
      "execution_count": 0,
      "outputs": []
    },
    {
      "cell_type": "code",
      "metadata": {
        "id": "3gbF-V_ygiRu",
        "colab_type": "code",
        "colab": {
          "base_uri": "https://localhost:8080/",
          "height": 136
        },
        "outputId": "572f5fe6-db09-4b3b-dc4a-1d129ba25c62"
      },
      "source": [
        "padded"
      ],
      "execution_count": 170,
      "outputs": [
        {
          "output_type": "execute_result",
          "data": {
            "text/plain": [
              "array([[   0,    0,    0, ...,  574, 1284,    1],\n",
              "       [   0,    0,    0, ..., 3258,  676, 3259],\n",
              "       [   0,    0,    0, ...,  575, 1323, 6385],\n",
              "       ...,\n",
              "       [   0,    0,    0, ...,  609, 1667, 3206],\n",
              "       [   0,    0,    0, ..., 8093,    1, 5455],\n",
              "       [   0,    0,    0, ...,  249,  167,  167]], dtype=int32)"
            ]
          },
          "metadata": {
            "tags": []
          },
          "execution_count": 170
        }
      ]
    },
    {
      "cell_type": "code",
      "metadata": {
        "id": "2v8Akic20kA4",
        "colab_type": "code",
        "outputId": "205082ce-f0a9-47fb-a684-2ed3d7e11a9d",
        "colab": {
          "base_uri": "https://localhost:8080/",
          "height": 303
        }
      },
      "source": [
        "model_lstm.summary()"
      ],
      "execution_count": 169,
      "outputs": [
        {
          "output_type": "error",
          "ename": "ValueError",
          "evalue": "ignored",
          "traceback": [
            "\u001b[0;31m---------------------------------------------------------------------------\u001b[0m",
            "\u001b[0;31mValueError\u001b[0m                                Traceback (most recent call last)",
            "\u001b[0;32m<ipython-input-169-97a7251af5a9>\u001b[0m in \u001b[0;36m<module>\u001b[0;34m()\u001b[0m\n\u001b[0;32m----> 1\u001b[0;31m \u001b[0mmodel_lstm\u001b[0m\u001b[0;34m.\u001b[0m\u001b[0msummary\u001b[0m\u001b[0;34m(\u001b[0m\u001b[0;34m)\u001b[0m\u001b[0;34m\u001b[0m\u001b[0;34m\u001b[0m\u001b[0m\n\u001b[0m",
            "\u001b[0;32m/usr/local/lib/python3.6/dist-packages/tensorflow_core/python/keras/engine/network.py\u001b[0m in \u001b[0;36msummary\u001b[0;34m(self, line_length, positions, print_fn)\u001b[0m\n\u001b[1;32m   1451\u001b[0m     \"\"\"\n\u001b[1;32m   1452\u001b[0m     \u001b[0;32mif\u001b[0m \u001b[0;32mnot\u001b[0m \u001b[0mself\u001b[0m\u001b[0;34m.\u001b[0m\u001b[0mbuilt\u001b[0m\u001b[0;34m:\u001b[0m\u001b[0;34m\u001b[0m\u001b[0;34m\u001b[0m\u001b[0m\n\u001b[0;32m-> 1453\u001b[0;31m       raise ValueError('This model has not yet been built. '\n\u001b[0m\u001b[1;32m   1454\u001b[0m                        \u001b[0;34m'Build the model first by calling `build()` or calling '\u001b[0m\u001b[0;34m\u001b[0m\u001b[0;34m\u001b[0m\u001b[0m\n\u001b[1;32m   1455\u001b[0m                        \u001b[0;34m'`fit()` with some data, or specify '\u001b[0m\u001b[0;34m\u001b[0m\u001b[0;34m\u001b[0m\u001b[0m\n",
            "\u001b[0;31mValueError\u001b[0m: This model has not yet been built. Build the model first by calling `build()` or calling `fit()` with some data, or specify an `input_shape` argument in the first layer(s) for automatic build."
          ]
        }
      ]
    },
    {
      "cell_type": "code",
      "metadata": {
        "id": "UBGXTl550omc",
        "colab_type": "code",
        "colab": {}
      },
      "source": [
        "model_lstm.compile(loss='binary_crossentropy',optimizer='adam',metrics=['accuracy'])\n",
        "num_epochs = 20\n",
        "history2=model_lstm.fit(padded, train_labels, batch_size=1000,epochs=num_epochs, validation_data=(test_padded, test_labels))"
      ],
      "execution_count": 0,
      "outputs": []
    },
    {
      "cell_type": "code",
      "metadata": {
        "id": "2xhhisVK01Y0",
        "colab_type": "code",
        "outputId": "b680b6a7-4807-4205-c399-8cf3d98eec5e",
        "colab": {
          "base_uri": "https://localhost:8080/",
          "height": 521
        }
      },
      "source": [
        "#Evaluating Accuracy and Loss of the model\n",
        "%matplotlib inline\n",
        "acc=history2.history['acc']\n",
        "val_acc=history2.history['val_acc']\n",
        "loss=history2.history['loss']\n",
        "val_loss=history2.history['val_loss']\n",
        "\n",
        "epochs=range(len(acc)) #No. of epochs\n",
        "\n",
        "#Plot training and validation accuracy per epoch\n",
        "import matplotlib.pyplot as plt\n",
        "plt.plot(epochs,acc,'r',label='Training Accuracy')\n",
        "plt.plot(epochs,val_acc,'g',label='Testing Accuracy')\n",
        "plt.legend()\n",
        "plt.figure()\n",
        "\n",
        "#Plot training and validation loss per epoch\n",
        "plt.plot(epochs,loss,'r',label='Training Loss')\n",
        "plt.plot(epochs,val_loss,'g',label='Testing Loss')\n",
        "plt.legend()\n",
        "plt.show()"
      ],
      "execution_count": 0,
      "outputs": [
        {
          "output_type": "display_data",
          "data": {
            "image/png": "[encoded data removed]",
            "text/plain": [
              "<Figure size 432x288 with 1 Axes>"
            ]
          },
          "metadata": {
            "tags": []
          }
        },
        {
          "output_type": "display_data",
          "data": {
            "image/png": "[encoded data removed]",
            "text/plain": [
              "<Figure size 432x288 with 1 Axes>"
            ]
          },
          "metadata": {
            "tags": []
          }
        }
      ]
    }
  ]
}